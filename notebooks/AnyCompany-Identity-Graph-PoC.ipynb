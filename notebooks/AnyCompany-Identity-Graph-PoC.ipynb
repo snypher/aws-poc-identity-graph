{
 "cells": [
  {
   "cell_type": "markdown",
   "id": "1f6d6c8e",
   "metadata": {},
   "source": [
    "### Check Notebook configuration and Neptune cluster Status"
   ]
  },
  {
   "cell_type": "code",
   "execution_count": null,
   "id": "11a938c6",
   "metadata": {},
   "outputs": [],
   "source": [
    "%graph_notebook_version"
   ]
  },
  {
   "cell_type": "code",
   "execution_count": null,
   "id": "8d42d9b8",
   "metadata": {},
   "outputs": [],
   "source": [
    "%%graph_notebook_config\n",
    "{\n",
    "  \"host\": \"neptune-cluster-poc-identity-graph.cluster-c4k0tumhelmt.us-east-2.neptune.amazonaws.com\",\n",
    "  \"port\": 8182,\n",
    "  \"auth_mode\": \"IAM\",\n",
    "  \"load_from_s3_arn\": \"\",\n",
    "  \"ssl\": true,\n",
    "  \"aws_region\": \"us-east-2\",\n",
    "  \"sparql\": {\n",
    "    \"path\": \"sparql\"\n",
    "  },\n",
    "  \"gremlin\": {\n",
    "    \"traversal_source\": \"g\"\n",
    "  }\n",
    "}"
   ]
  },
  {
   "cell_type": "code",
   "execution_count": null,
   "id": "bf3e838e",
   "metadata": {},
   "outputs": [],
   "source": [
    "%graph_notebook_config"
   ]
  },
  {
   "cell_type": "code",
   "execution_count": null,
   "id": "370a0051",
   "metadata": {},
   "outputs": [],
   "source": [
    "%status"
   ]
  },
  {
   "cell_type": "markdown",
   "id": "f30e5c8f",
   "metadata": {},
   "source": [
    "### Loading data into the Identity Graph"
   ]
  },
  {
   "cell_type": "code",
   "execution_count": null,
   "id": "bd52c8c2",
   "metadata": {},
   "outputs": [],
   "source": [
    "%load"
   ]
  },
  {
   "cell_type": "markdown",
   "id": "874b0105",
   "metadata": {},
   "source": [
    "### Exploring the Identity Graph\n",
    "In order to better understand the data model and schema for the graph database we can execute the below graph queries to identify common entities like nodes/vertices and relationships/edges\n",
    "\n",
    "#### Amount of nodes/vertices group by label"
   ]
  },
  {
   "cell_type": "code",
   "execution_count": null,
   "id": "e8e71f8b",
   "metadata": {},
   "outputs": [],
   "source": [
    "%%gremlin\n",
    "\n",
    "g.V().groupCount().by(label).unfold()"
   ]
  },
  {
   "cell_type": "markdown",
   "id": "77c6de33",
   "metadata": {},
   "source": [
    "#### Amount of relationships/edges group by label"
   ]
  },
  {
   "cell_type": "code",
   "execution_count": null,
   "id": "c7ee8e26",
   "metadata": {},
   "outputs": [],
   "source": [
    "%%gremlin\n",
    "\n",
    "g.E().groupCount().by(label).unfold()"
   ]
  },
  {
   "cell_type": "markdown",
   "id": "ae723818",
   "metadata": {},
   "source": [
    "#### Top 10 Device IDs by amount of known users linked"
   ]
  },
  {
   "cell_type": "code",
   "execution_count": null,
   "id": "00995b37",
   "metadata": {
    "scrolled": false
   },
   "outputs": [],
   "source": [
    "%%gremlin\n",
    "\n",
    "g.V().hasLabel('DeviceID').\n",
    "    project('device_id','known_users_linked').\n",
    "        by(id).\n",
    "        by(in('usedDevice').out('loggedAs').count()).\n",
    "    order().\n",
    "        by('known_users_linked',desc).\n",
    "    limit(10)"
   ]
  },
  {
   "cell_type": "markdown",
   "id": "0243fbba",
   "metadata": {},
   "source": [
    "#### Top 10 Client IPs by amount of known users linked"
   ]
  },
  {
   "cell_type": "code",
   "execution_count": null,
   "id": "e88bcbb7",
   "metadata": {},
   "outputs": [],
   "source": [
    "%%gremlin\n",
    "\n",
    "g.V().hasLabel('ClientIP').\n",
    "    project('client_ip','known_users_linked').\n",
    "        by(id).\n",
    "        by(in('lastSeenAtIP').out('loggedAs').count()).\n",
    "    order().\n",
    "        by('known_users_linked',desc).\n",
    "    limit(10)"
   ]
  },
  {
   "cell_type": "markdown",
   "id": "71a88b07",
   "metadata": {},
   "source": [
    "#### Top 10 Client IPs by amount of anonymous session linked"
   ]
  },
  {
   "cell_type": "code",
   "execution_count": null,
   "id": "a61fe39f",
   "metadata": {},
   "outputs": [],
   "source": [
    "%%gremlin\n",
    "\n",
    "g.V().hasLabel('ClientIP').\n",
    "    project('client_ip','anonymous_sessions_linked').\n",
    "        by(id).\n",
    "        by(in('lastSeenAtIP').not(out('loggedAs')).count()).\n",
    "    order().\n",
    "        by('anonymous_sessions_linked',desc).\n",
    "    limit(10)"
   ]
  },
  {
   "cell_type": "markdown",
   "id": "acced06a",
   "metadata": {},
   "source": [
    "#### Anonymous sessions related to a given Client IP"
   ]
  },
  {
   "cell_type": "code",
   "execution_count": null,
   "id": "e8ee9f53",
   "metadata": {},
   "outputs": [],
   "source": [
    "%%gremlin -p inv,outv\n",
    "\n",
    "g.V('147.35.190.53').\n",
    "    in('lastSeenAtIP').\n",
    "    not(out('loggedAs')).\n",
    "    path().\n",
    "    by()"
   ]
  },
  {
   "cell_type": "markdown",
   "id": "cca7b192",
   "metadata": {},
   "source": [
    "#### Top 10 Client's External ID by amount of product purchases"
   ]
  },
  {
   "cell_type": "code",
   "execution_count": null,
   "id": "2de66cf3",
   "metadata": {
    "scrolled": false
   },
   "outputs": [],
   "source": [
    "%%gremlin\n",
    "\n",
    "g.V().hasLabel('CustomerID').\n",
    "    project('external_id','amount_of_purchases').\n",
    "        by(id).\n",
    "        by(in('hasExternalId').out().out('hasPurchased').count()).\n",
    "    order().\n",
    "        by('amount_of_purchases',desc).\n",
    "    limit(10)"
   ]
  },
  {
   "cell_type": "markdown",
   "id": "b5c0a445",
   "metadata": {},
   "source": [
    "### Find out information about user interests based on the activity of the user across all devices\n",
    "Suppose you are hosting a web platform and collecting clickstream data as users browse your site or use your mobile app. In the majority of situations, users using your platform will be anonymous (or non-registered or logged in users). However, these anonymous users may be linked to other known users in that have used our platform before. We can join (or resolve) the identity of the anonymous user with attributes we know about existing users to make some assumptions (based off of known user behavior and heuristics) in order to know more about this anonymous user. We can then use this information to target the user with advertising, special offers, discounts, etc\n",
    "\n",
    "Let's use an example where we have an anonymous user interaction through AnyCompany Marketplace website (e.i. web session). The user's interaction is registered as session id **'3f553df3-307c-4fbf-ba16-2f20817d7c86'**. We want to know more about this user and if it is linked to other users on our platform. This anonymous user is considered a **\"transient ID\"** in our graph data model. Assuming this user does not have a link to a known user, or **\"persistent ID\"**, how might we find connections from this transient ID to other known user IDs?\n",
    "\n",
    "Looking at the data model, you can see that **\"SessionID\"** (a.k.a. transient ID) vertices in our graph are connected to **\"ClientIP\"** vertices by an outgoing edge. We can traverse across \"ClientIP\" vertices to get to other linked \"SessionID\" that might be linked to a known user (a.k.a. persistent ID). Let's do that in the following graph query."
   ]
  },
  {
   "cell_type": "code",
   "execution_count": null,
   "id": "b8404ee3",
   "metadata": {},
   "outputs": [],
   "source": [
    "%%gremlin -p outv,inv,outv,inv\n",
    "\n",
    "g.V('3f553df3-307c-4fbf-ba16-2f20817d7c86').\n",
    "    out('lastSeenAtIP').\n",
    "    in('lastSeenAtIP').\n",
    "    out('loggedAs').\n",
    "    dedup().\n",
    "    path()"
   ]
  },
  {
   "cell_type": "markdown",
   "id": "28555116",
   "metadata": {},
   "source": [
    "Now we can dive deeper into the subgraph that describe the online interactions for one of the identified known users"
   ]
  },
  {
   "cell_type": "code",
   "execution_count": null,
   "id": "b5114f40",
   "metadata": {},
   "outputs": [],
   "source": [
    "%%gremlin -p inv,outv\n",
    "\n",
    "g.V('victorwilson').\n",
    "    in('loggedAs').\n",
    "    out().\n",
    "    simplePath().\n",
    "    path()"
   ]
  },
  {
   "cell_type": "markdown",
   "id": "d78a9f95",
   "metadata": {},
   "source": [
    "Let's use another example where we have an anonymous user interaction through AnyCompany's Mobile Application. The user's interaction is coming from a device with id **'5D693FB50F103CC1'**. We want to know more about this user and if it is linked to other users on our platform. This anonymous user is considered a \"transient ID\" in our graph data model. Assuming this user does not have a link to a known user, or \"persistent ID\", how might we find connections from this transient ID to other known user IDs?\n",
    "\n",
    "Looking at the data model, you can see that **\"DeviceID\"** vertices in our graph are connected to **\"SessionID\"** (a.k.a. transient ID) vertices by an incomming edge. We can traverse across \"SessionID\" vertices that might be linked to a known user (a.k.a. persistent ID) and are connected to same \"DeviceID\" (5D693FB50F103CC1). Let's do that in the following graph query."
   ]
  },
  {
   "cell_type": "code",
   "execution_count": null,
   "id": "6d59bb27",
   "metadata": {
    "scrolled": false
   },
   "outputs": [],
   "source": [
    "%%gremlin -p inv,outv,inv,inv,inv\n",
    "\n",
    "g.V('5D693FB50F103CC1').\n",
    "    in('usedDevice').\n",
    "    out('loggedAs').\n",
    "    order().\n",
    "        by(id).\n",
    "    dedup().\n",
    "    out('hasEmail','hasExternalId').\n",
    "    out('hasPurchased').\n",
    "    path()"
   ]
  },
  {
   "cell_type": "markdown",
   "id": "2d06a315",
   "metadata": {},
   "source": [
    "Let's use another example where we have an user interaction at the register of an AnyCompany's physical store. The user's interaction is registered with the customer external ID **'709-31-6436'** provided by the user at the register. We want to know more about this user and its purchase history, even if the user is linked to other known users on our platform.\n",
    "\n",
    "Looking at the data model, you can see that **\"ExternalID\"** vertices in our graph are connected to **\"User\"** (a.k.a. persistent ID) vertices by an incomming edge. We can traverse across \"User\" vertices to get other linked purchase identifiers (e.g. Email) that might have been used by same user when purchasing other products. Let's do that in the following graph query."
   ]
  },
  {
   "cell_type": "code",
   "execution_count": null,
   "id": "756e55ff",
   "metadata": {},
   "outputs": [],
   "source": [
    "%%gremlin -p inv,outv,inv\n",
    "\n",
    "g.V('460-74-7963').\n",
    "    in('hasExternalId').\n",
    "    out().\n",
    "    out('hasPurchased').\n",
    "    path()"
   ]
  },
  {
   "cell_type": "markdown",
   "id": "227606b5",
   "metadata": {},
   "source": [
    "### Adding new data into the Identity Graph"
   ]
  },
  {
   "cell_type": "markdown",
   "id": "7fdb20e7",
   "metadata": {},
   "source": [
    "#### Generate raw data simulating incremental updates from source datasets\n",
    "\n",
    "Mock data for the below source datasets will be generated\n",
    "\n",
    "* First-party database (e.g. CRM)\n",
    "* Transactional database (e.g. purchases)\n",
    "* Cookie database\n",
    "* Click Stream database\n",
    "\n",
    "Resulting CSV files with raw data per each dataset\n",
    "\n",
    "* first-party: `first_party_data_inc.csv`\n",
    "* cookie: `cookie_data_inc.csv`\n",
    "* clickstream: `clickstream_data_inc.csv`\n",
    "* transactional: `transactional_data_inc.csv`"
   ]
  },
  {
   "cell_type": "code",
   "execution_count": null,
   "id": "fc154212",
   "metadata": {},
   "outputs": [],
   "source": [
    "%%bash\n",
    "\n",
    "pip install Faker >/dev/null 2>&1\n",
    "cd /home/ec2-user/SageMaker\n",
    "python3 utils/create-source-datasets.py --records 100 --uniqueness 50 --incremental 1"
   ]
  },
  {
   "cell_type": "markdown",
   "id": "e175a662",
   "metadata": {},
   "source": [
    "#### Visualizing raw data from clickstream dataset"
   ]
  },
  {
   "cell_type": "code",
   "execution_count": null,
   "id": "5af2ed2c",
   "metadata": {
    "scrolled": false
   },
   "outputs": [],
   "source": [
    "%%python3\n",
    "\n",
    "import pandas as pd\n",
    "\n",
    "csv_file_path = '/home/ec2-user/SageMaker/clickstream_data_inc.csv'\n",
    "cols1 = [ 'session_id', 'client_platform', 'canonical_url', \n",
    "    'app_id', 'events', 'start_timestamp', 'start_event', 'end_timestamp', \n",
    "    'end_event', 'session_duration_sec' ]\n",
    "cols2 = [ 'session_id', 'client_ip' ]\n",
    "cols3 = [ 'session_id', 'device_id' ]\n",
    "cols4 = [ 'session_id', 'user_name' ]\n",
    "df1 = pd.read_csv(csv_file_path, usecols=cols1, nrows=1)\n",
    "print('Sample data for SessionID vertex')\n",
    "print('--------------------------------')\n",
    "print(df1.squeeze())\n",
    "print('')\n",
    "df2 = pd.read_csv(csv_file_path, usecols=cols2, nrows=1)\n",
    "print('Sample data for SessionID to ClientIP edge')\n",
    "print('------------------------------------------')\n",
    "print(df2)\n",
    "print('')\n",
    "df3 = pd.read_csv(csv_file_path, usecols=cols3, nrows=1)\n",
    "print('Sample data for SessionID to DeviceID edge')\n",
    "print('------------------------------------------')\n",
    "print(df3)\n",
    "print('')\n",
    "df4 = pd.read_csv(csv_file_path, usecols=cols4, nrows=1)\n",
    "print('Sample data for SessionID to User edge')\n",
    "print('--------------------------------------')\n",
    "print(df4)\n",
    "print('')"
   ]
  },
  {
   "cell_type": "markdown",
   "id": "b0a5d277",
   "metadata": {},
   "source": [
    "#### Create property graph vertices and edges"
   ]
  },
  {
   "cell_type": "code",
   "execution_count": null,
   "id": "8e3bbdbf",
   "metadata": {},
   "outputs": [],
   "source": [
    "%%gremlin\n",
    "\n",
    "//New ClientIP vertex\n",
    "g.addV('ClientIP').\n",
    "    property(id,'73.90.98.110')"
   ]
  },
  {
   "cell_type": "code",
   "execution_count": null,
   "id": "5984b2ac",
   "metadata": {},
   "outputs": [],
   "source": [
    "%%gremlin\n",
    "\n",
    "//New DeviceID vertex\n",
    "g.addV('DeviceID').\n",
    "    property(id,'57797B2259422AD5')"
   ]
  },
  {
   "cell_type": "code",
   "execution_count": null,
   "id": "938b3c75",
   "metadata": {},
   "outputs": [],
   "source": [
    "%%gremlin\n",
    "\n",
    "//New SessionID vertex\n",
    "g.addV('SessionID').\n",
    "    property(id,'c6876df1-b8a9-4d49-bd62-f206fae899db').\n",
    "    property('client_platform','mobile').\n",
    "    property('canonical_url','http://www.alvarez-smith.com/').\n",
    "    property('app_id','ecommerce').\n",
    "    property('events',25).\n",
    "    property('start_timestamp','2019-02-10 09:35:52').\n",
    "    property('start_event','CompareProducts').\n",
    "    property('end_timestamp','2019-02-10 10:03:37').\n",
    "    property('end_event','SingUp').\n",
    "    property('session_duration_sec',1665)"
   ]
  },
  {
   "cell_type": "code",
   "execution_count": null,
   "id": "18173748",
   "metadata": {},
   "outputs": [],
   "source": [
    "%%gremlin\n",
    "\n",
    "g.V('c6876df1-b8a9-4d49-bd62-f206fae899db').as('session').\n",
    "  addE('loggedAs').\n",
    "    from('session').\n",
    "    to('victorwilson')"
   ]
  }
 ],
 "metadata": {
  "kernelspec": {
   "display_name": "Python 3",
   "language": "python",
   "name": "python3"
  },
  "language_info": {
   "codemirror_mode": {
    "name": "ipython",
    "version": 3
   },
   "file_extension": ".py",
   "mimetype": "text/x-python",
   "name": "python",
   "nbconvert_exporter": "python",
   "pygments_lexer": "ipython3",
   "version": "3.7.12"
  }
 },
 "nbformat": 4,
 "nbformat_minor": 5
}
