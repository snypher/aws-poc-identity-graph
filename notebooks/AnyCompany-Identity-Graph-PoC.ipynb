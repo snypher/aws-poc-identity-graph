{
 "cells": [
  {
   "cell_type": "code",
   "execution_count": 44,
   "id": "11a938c6",
   "metadata": {},
   "outputs": [
    {
     "name": "stdout",
     "output_type": "stream",
     "text": [
      "3.4.1\n"
     ]
    }
   ],
   "source": [
    "%graph_notebook_version"
   ]
  },
  {
   "cell_type": "code",
   "execution_count": 47,
   "id": "e09e95c4",
   "metadata": {},
   "outputs": [],
   "source": [
    "%disable_debug"
   ]
  },
  {
   "cell_type": "code",
   "execution_count": 2,
   "id": "8d42d9b8",
   "metadata": {},
   "outputs": [
    {
     "name": "stdout",
     "output_type": "stream",
     "text": [
      "set notebook config to:\n",
      "{\n",
      "  \"host\": \"neptune-cluster-poc-identity-graph.cluster-c4k0tumhelmt.us-east-2.neptune.amazonaws.com\",\n",
      "  \"port\": 8182,\n",
      "  \"auth_mode\": \"IAM\",\n",
      "  \"load_from_s3_arn\": \"\",\n",
      "  \"ssl\": true,\n",
      "  \"aws_region\": \"us-east-2\",\n",
      "  \"sparql\": {\n",
      "    \"path\": \"sparql\"\n",
      "  },\n",
      "  \"gremlin\": {\n",
      "    \"traversal_source\": \"g\"\n",
      "  }\n",
      "}\n"
     ]
    },
    {
     "data": {
      "text/plain": [
       "<graph_notebook.configuration.generate_config.Configuration at 0x7f4a6ca9cc90>"
      ]
     },
     "execution_count": 2,
     "metadata": {},
     "output_type": "execute_result"
    }
   ],
   "source": [
    "%%graph_notebook_config\n",
    "{\n",
    "  \"host\": \"neptune-cluster-poc-identity-graph.cluster-c4k0tumhelmt.us-east-2.neptune.amazonaws.com\",\n",
    "  \"port\": 8182,\n",
    "  \"auth_mode\": \"IAM\",\n",
    "  \"load_from_s3_arn\": \"\",\n",
    "  \"ssl\": true,\n",
    "  \"aws_region\": \"us-east-2\",\n",
    "  \"sparql\": {\n",
    "    \"path\": \"sparql\"\n",
    "  },\n",
    "  \"gremlin\": {\n",
    "    \"traversal_source\": \"g\"\n",
    "  }\n",
    "}"
   ]
  },
  {
   "cell_type": "code",
   "execution_count": 48,
   "id": "bf3e838e",
   "metadata": {},
   "outputs": [
    {
     "name": "stdout",
     "output_type": "stream",
     "text": [
      "{\n",
      "  \"host\": \"neptune-cluster-poc-identity-graph.cluster-c4k0tumhelmt.us-east-2.neptune.amazonaws.com\",\n",
      "  \"port\": 8182,\n",
      "  \"auth_mode\": \"IAM\",\n",
      "  \"load_from_s3_arn\": \"\",\n",
      "  \"ssl\": true,\n",
      "  \"aws_region\": \"us-east-2\",\n",
      "  \"sparql\": {\n",
      "    \"path\": \"sparql\"\n",
      "  },\n",
      "  \"gremlin\": {\n",
      "    \"traversal_source\": \"g\"\n",
      "  }\n",
      "}\n"
     ]
    },
    {
     "data": {
      "text/plain": [
       "<graph_notebook.configuration.generate_config.Configuration at 0x7f4a6ca9cc90>"
      ]
     },
     "execution_count": 48,
     "metadata": {},
     "output_type": "execute_result"
    }
   ],
   "source": [
    "%graph_notebook_config"
   ]
  },
  {
   "cell_type": "code",
   "execution_count": 406,
   "id": "370a0051",
   "metadata": {},
   "outputs": [
    {
     "data": {
      "text/plain": [
       "{'status': 'healthy',\n",
       " 'startTime': 'Tue Jun 21 18:11:45 UTC 2022',\n",
       " 'dbEngineVersion': '1.1.1.0.R3',\n",
       " 'role': 'writer',\n",
       " 'dfeQueryEngine': 'viaQueryHint',\n",
       " 'gremlin': {'version': 'tinkerpop-3.5.2'},\n",
       " 'sparql': {'version': 'sparql-1.1'},\n",
       " 'opencypher': {'version': 'Neptune-9.0.20190305-1.0'},\n",
       " 'labMode': {'ObjectIndex': 'disabled',\n",
       "  'ReadWriteConflictDetection': 'enabled'},\n",
       " 'features': {'ResultCache': {'status': 'disabled'},\n",
       "  'IAMAuthentication': 'enabled',\n",
       "  'Streams': 'disabled',\n",
       "  'AuditLog': 'enabled'},\n",
       " 'settings': {'clusterQueryTimeoutInMs': '60000'}}"
      ]
     },
     "execution_count": 406,
     "metadata": {},
     "output_type": "execute_result"
    }
   ],
   "source": [
    "%status"
   ]
  },
  {
   "cell_type": "code",
   "execution_count": 407,
   "id": "bd52c8c2",
   "metadata": {},
   "outputs": [
    {
     "data": {
      "application/vnd.jupyter.widget-view+json": {
       "model_id": "",
       "version_major": 2,
       "version_minor": 0
      },
      "text/plain": [
       "HBox(children=(Label(value='Source:', layout=Layout(display='flex', justify_content='flex-end', width='16%')),…"
      ]
     },
     "metadata": {},
     "output_type": "display_data"
    },
    {
     "data": {
      "application/vnd.jupyter.widget-view+json": {
       "model_id": "",
       "version_major": 2,
       "version_minor": 0
      },
      "text/plain": [
       "HBox(children=(Label(value='Format:', layout=Layout(display='flex', justify_content='flex-end', width='16%')),…"
      ]
     },
     "metadata": {},
     "output_type": "display_data"
    },
    {
     "data": {
      "application/vnd.jupyter.widget-view+json": {
       "model_id": "",
       "version_major": 2,
       "version_minor": 0
      },
      "text/plain": [
       "HBox(children=(Label(value='Region:', layout=Layout(display='flex', justify_content='flex-end', width='16%')),…"
      ]
     },
     "metadata": {},
     "output_type": "display_data"
    },
    {
     "data": {
      "application/vnd.jupyter.widget-view+json": {
       "model_id": "",
       "version_major": 2,
       "version_minor": 0
      },
      "text/plain": [
       "HBox(children=(Label(value='Load ARN:', layout=Layout(display='flex', justify_content='flex-end', width='16%')…"
      ]
     },
     "metadata": {},
     "output_type": "display_data"
    },
    {
     "data": {
      "application/vnd.jupyter.widget-view+json": {
       "model_id": "",
       "version_major": 2,
       "version_minor": 0
      },
      "text/plain": [
       "HBox(children=(Label(value='Mode:', layout=Layout(display='flex', justify_content='flex-end', width='16%')), D…"
      ]
     },
     "metadata": {},
     "output_type": "display_data"
    },
    {
     "data": {
      "application/vnd.jupyter.widget-view+json": {
       "model_id": "",
       "version_major": 2,
       "version_minor": 0
      },
      "text/plain": [
       "HBox(children=(Label(value='Fail on Error:', layout=Layout(display='flex', justify_content='flex-end', width='…"
      ]
     },
     "metadata": {},
     "output_type": "display_data"
    },
    {
     "data": {
      "application/vnd.jupyter.widget-view+json": {
       "model_id": "",
       "version_major": 2,
       "version_minor": 0
      },
      "text/plain": [
       "HBox(children=(Label(value='Parallelism:', layout=Layout(display='flex', justify_content='flex-end', width='16…"
      ]
     },
     "metadata": {},
     "output_type": "display_data"
    },
    {
     "data": {
      "application/vnd.jupyter.widget-view+json": {
       "model_id": "",
       "version_major": 2,
       "version_minor": 0
      },
      "text/plain": [
       "HBox(children=(Label(value='Update Single Cardinality:', layout=Layout(display='flex', justify_content='flex-e…"
      ]
     },
     "metadata": {},
     "output_type": "display_data"
    },
    {
     "data": {
      "application/vnd.jupyter.widget-view+json": {
       "model_id": "",
       "version_major": 2,
       "version_minor": 0
      },
      "text/plain": [
       "HBox(children=(Label(value='Queue Request:', layout=Layout(display='flex', justify_content='flex-end', width='…"
      ]
     },
     "metadata": {},
     "output_type": "display_data"
    },
    {
     "data": {
      "application/vnd.jupyter.widget-view+json": {
       "model_id": "",
       "version_major": 2,
       "version_minor": 0
      },
      "text/plain": [
       "HBox(children=(Label(value='Dependencies:', layout=Layout(display='flex', justify_content='flex-end', width='1…"
      ]
     },
     "metadata": {},
     "output_type": "display_data"
    },
    {
     "data": {
      "application/vnd.jupyter.widget-view+json": {
       "model_id": "",
       "version_major": 2,
       "version_minor": 0
      },
      "text/plain": [
       "HBox(children=(Label(value='Poll Load Status:', layout=Layout(display='flex', justify_content='flex-end', widt…"
      ]
     },
     "metadata": {},
     "output_type": "display_data"
    },
    {
     "data": {
      "application/vnd.jupyter.widget-view+json": {
       "model_id": "",
       "version_major": 2,
       "version_minor": 0
      },
      "text/plain": [
       "HBox(children=(Label(value='User Provided Edge Ids:', layout=Layout(display='none', justify_content='flex-end'…"
      ]
     },
     "metadata": {},
     "output_type": "display_data"
    },
    {
     "data": {
      "application/vnd.jupyter.widget-view+json": {
       "model_id": "",
       "version_major": 2,
       "version_minor": 0
      },
      "text/plain": [
       "HBox(children=(Label(value='Allow Empty Strings:', layout=Layout(display='flex', justify_content='flex-end', w…"
      ]
     },
     "metadata": {},
     "output_type": "display_data"
    },
    {
     "data": {
      "application/vnd.jupyter.widget-view+json": {
       "model_id": "",
       "version_major": 2,
       "version_minor": 0
      },
      "text/plain": [
       "HBox(children=(Label(value='Named Graph URI:', layout=Layout(display='none', justify_content='flex-end', width…"
      ]
     },
     "metadata": {},
     "output_type": "display_data"
    },
    {
     "data": {
      "application/vnd.jupyter.widget-view+json": {
       "model_id": "",
       "version_major": 2,
       "version_minor": 0
      },
      "text/plain": [
       "HBox(children=(Label(value='Base URI:', layout=Layout(display='none', justify_content='flex-end', width='16%')…"
      ]
     },
     "metadata": {},
     "output_type": "display_data"
    },
    {
     "data": {
      "application/vnd.jupyter.widget-view+json": {
       "model_id": "",
       "version_major": 2,
       "version_minor": 0
      },
      "text/plain": [
       "Button(description='Submit', style=ButtonStyle())"
      ]
     },
     "metadata": {},
     "output_type": "display_data"
    },
    {
     "data": {
      "application/vnd.jupyter.widget-view+json": {
       "model_id": "",
       "version_major": 2,
       "version_minor": 0
      },
      "text/plain": [
       "Output()"
      ]
     },
     "metadata": {},
     "output_type": "display_data"
    },
    {
     "data": {
      "application/vnd.jupyter.widget-view+json": {
       "model_id": "4390278d69f942eb829f4e048be897a4",
       "version_major": 2,
       "version_minor": 0
      },
      "text/plain": [
       "VBox(children=(HBox(children=(Label(value='Load ID: a026947e-43c7-44cc-9df3-256b1d69e6ac'),)), HBox(children=(…"
      ]
     },
     "metadata": {},
     "output_type": "display_data"
    }
   ],
   "source": [
    "%load"
   ]
  },
  {
   "cell_type": "markdown",
   "id": "874b0105",
   "metadata": {},
   "source": [
    "### Exploring the Identity Graph\n",
    "In order to better understand data model and schema for the graph we can execute the below graph queries to know common entities like nodes/vertices and relationships/edges\n",
    "\n",
    "#### Amount of nodes/vertices group by label"
   ]
  },
  {
   "cell_type": "code",
   "execution_count": 451,
   "id": "e8e71f8b",
   "metadata": {},
   "outputs": [
    {
     "data": {
      "application/vnd.jupyter.widget-view+json": {
       "model_id": "d225730e92b44d49920f2f435f8ea334",
       "version_major": 2,
       "version_minor": 0
      },
      "text/plain": [
       "Tab(children=(Output(layout=Layout(max_height='600px', overflow='scroll', width='100%')), Output(layout=Layout…"
      ]
     },
     "metadata": {},
     "output_type": "display_data"
    }
   ],
   "source": [
    "%%gremlin\n",
    "g.V().groupCount().by(label).unfold()"
   ]
  },
  {
   "cell_type": "markdown",
   "id": "77c6de33",
   "metadata": {},
   "source": [
    "#### Amount of relationships/edges group by label"
   ]
  },
  {
   "cell_type": "code",
   "execution_count": 452,
   "id": "c7ee8e26",
   "metadata": {},
   "outputs": [
    {
     "data": {
      "application/vnd.jupyter.widget-view+json": {
       "model_id": "6ecc11bac4b54de1873355bd06f030bb",
       "version_major": 2,
       "version_minor": 0
      },
      "text/plain": [
       "Tab(children=(Output(layout=Layout(max_height='600px', overflow='scroll', width='100%')), Output(layout=Layout…"
      ]
     },
     "metadata": {},
     "output_type": "display_data"
    }
   ],
   "source": [
    "%%gremlin\n",
    "g.E().groupCount().by(label).unfold()"
   ]
  },
  {
   "cell_type": "markdown",
   "id": "ae723818",
   "metadata": {},
   "source": [
    "#### Top 10 of Device IDs by amount of known users linked"
   ]
  },
  {
   "cell_type": "code",
   "execution_count": 493,
   "id": "00995b37",
   "metadata": {
    "scrolled": false
   },
   "outputs": [
    {
     "data": {
      "application/vnd.jupyter.widget-view+json": {
       "model_id": "18d7bbc1add442cfbae4f903b5f3fa5f",
       "version_major": 2,
       "version_minor": 0
      },
      "text/plain": [
       "Tab(children=(Output(layout=Layout(max_height='600px', overflow='scroll', width='100%')), Output(layout=Layout…"
      ]
     },
     "metadata": {},
     "output_type": "display_data"
    }
   ],
   "source": [
    "%%gremlin\n",
    "g.V().hasLabel('DeviceID').\n",
    "    project('device_id','known_users_linked').\n",
    "        by(id).\n",
    "        by(in('usedDevice').out('loggedAs').count()).\n",
    "    order().\n",
    "        by('known_users_linked',desc).\n",
    "    limit(10)"
   ]
  },
  {
   "cell_type": "markdown",
   "id": "0243fbba",
   "metadata": {},
   "source": [
    "#### Top 10 of Client IPs by amount of known users linked"
   ]
  },
  {
   "cell_type": "code",
   "execution_count": 494,
   "id": "e88bcbb7",
   "metadata": {},
   "outputs": [
    {
     "data": {
      "application/vnd.jupyter.widget-view+json": {
       "model_id": "6c2ebf6d163b45c0aa9122e40aaae3ac",
       "version_major": 2,
       "version_minor": 0
      },
      "text/plain": [
       "Tab(children=(Output(layout=Layout(max_height='600px', overflow='scroll', width='100%')), Output(layout=Layout…"
      ]
     },
     "metadata": {},
     "output_type": "display_data"
    }
   ],
   "source": [
    "%%gremlin\n",
    "g.V().hasLabel('ClientIP').\n",
    "    project('client_ip','known_users_linked').\n",
    "        by(id).\n",
    "        by(in('lastSeenAtIP').out('loggedAs').count()).\n",
    "    order().\n",
    "        by('known_users_linked',desc).\n",
    "    limit(10)"
   ]
  },
  {
   "cell_type": "markdown",
   "id": "b5c0a445",
   "metadata": {},
   "source": [
    "### Find out information about user interests based on the activity of the user across all devices\n",
    "Suppose you are hosting a web platform and collecting clickstream data as users browse your site or use your mobile app. In the majority of situations, users using your platform will be anonymous (or non-registered or logged in users). However, these anonymous users may be linked to other known users in that have used our platform before. We can join (or resolve) the identity of the anonymous user with attributes we know about existing users to make some assumptions (based off of known user behavior and heuristics) in order to know more about this anonymous user. We can then use this information to target the user with advertising, special offers, discounts, etc\n",
    "\n",
    "Let's use an example where we have an anonymous user interaction through AnyCompany Marketplace website (e.i. web session). The user's interaction is registered as session id **'c3e8fa97-0f87-4d51-91f9-46514d191277'**. We want to know more about this user and if it is linked to other users on our platform. This anonymous user is considered a **\"transient ID\"** in our graph data model. Assuming this user does not have a link to a known user, or **\"persistent ID\"**, how might we find connections from this transient ID to other known user IDs?\n",
    "\n",
    "Looking at the data model, you can see that **\"SessionID\"** (a.k.a. transient ID) vertices in our graph are connected to **\"ClientIP\"** vertices by an outgoing edge. We can traverse across \"ClientIP\" vertices to get to other linked \"SessionID\" that might be linked to a known user (a.k.a. persistent ID). Let's do that in the following graph query."
   ]
  },
  {
   "cell_type": "code",
   "execution_count": 495,
   "id": "b8404ee3",
   "metadata": {},
   "outputs": [
    {
     "data": {
      "application/vnd.jupyter.widget-view+json": {
       "model_id": "b5ec8c8bd5864087921e3bb72d6d9196",
       "version_major": 2,
       "version_minor": 0
      },
      "text/plain": [
       "Tab(children=(Output(layout=Layout(max_height='600px', overflow='scroll', width='100%')), Force(network=<graph…"
      ]
     },
     "metadata": {},
     "output_type": "display_data"
    }
   ],
   "source": [
    "%%gremlin\n",
    "g.V('dcb08831-26fd-490f-9264-44ca763e33b1').\n",
    "    out('lastSeenAtIP').\n",
    "    in('lastSeenAtIP').\n",
    "    out('loggedAs').\n",
    "    dedup().\n",
    "    path()"
   ]
  },
  {
   "cell_type": "markdown",
   "id": "d78a9f95",
   "metadata": {},
   "source": [
    "Let's use another example where we have an anonymous user interaction through AnyCompany's Mobile Application. The user's interaction is coming from a device with id **'CFE9EA5D070F2557'**. We want to know more about this user and if it is linked to other users on our platform. This anonymous user is considered a \"transient ID\" in our graph data model. Assuming this user does not have a link to a known user, or \"persistent ID\", how might we find connections from this transient ID to other known user IDs?\n",
    "\n",
    "Looking at the data model, you can see that **\"DeviceID\"** vertices in our graph are connected to **\"SessionID\"** (a.k.a. transient ID) vertices by an incomming edge. We can traverse across \"SessionID\" vertices that might be linked to a known user (a.k.a. persistent ID) and are connected to same \"DeviceID\" (CFE9EA5D070F2557). Let's do that in the following graph query."
   ]
  },
  {
   "cell_type": "code",
   "execution_count": 496,
   "id": "6d59bb27",
   "metadata": {
    "scrolled": false
   },
   "outputs": [
    {
     "data": {
      "application/vnd.jupyter.widget-view+json": {
       "model_id": "2757d0fe7d694d5093cd1c103b26f843",
       "version_major": 2,
       "version_minor": 0
      },
      "text/plain": [
       "Tab(children=(Output(layout=Layout(max_height='600px', overflow='scroll', width='100%')), Force(network=<graph…"
      ]
     },
     "metadata": {},
     "output_type": "display_data"
    }
   ],
   "source": [
    "%%gremlin\n",
    "g.V('CFE9EA5D070F2557').\n",
    "    in('usedDevice').\n",
    "    out('loggedAs').\n",
    "    dedup().\n",
    "    out('hasEmail','hasExternalId').\n",
    "    out('hasPurchased').\n",
    "    path()"
   ]
  },
  {
   "cell_type": "markdown",
   "id": "2d06a315",
   "metadata": {},
   "source": [
    "Let's use another example where we have an user interaction at the register of an AnyCompany's physical store. The user's interaction is registered with the customer external ID **'709-31-6436'** provided by the user at the register. We want to know more about this user and its purchase history, even if the user is linked to other known users on our platform.\n",
    "\n",
    "Looking at the data model, you can see that **\"ExternalID\"** vertices in our graph are connected to **\"User\"** (a.k.a. persistent ID) vertices by an incomming edge. We can traverse across \"User\" vertices to get other linked purchase identifiers (e.g. Email) that might have been used by same user when purchasing other products. Let's do that in the following graph query."
   ]
  },
  {
   "cell_type": "code",
   "execution_count": 497,
   "id": "756e55ff",
   "metadata": {},
   "outputs": [
    {
     "data": {
      "application/vnd.jupyter.widget-view+json": {
       "model_id": "e01da997aa1645a2b58d7cd8996e59bb",
       "version_major": 2,
       "version_minor": 0
      },
      "text/plain": [
       "Tab(children=(Output(layout=Layout(max_height='600px', overflow='scroll', width='100%')), Force(network=<graph…"
      ]
     },
     "metadata": {},
     "output_type": "display_data"
    }
   ],
   "source": [
    "%%gremlin\n",
    "g.V('709-31-6436').\n",
    "    in('hasExternalId').\n",
    "    out().\n",
    "    out('hasPurchased').\n",
    "    path()"
   ]
  }
 ],
 "metadata": {
  "kernelspec": {
   "display_name": "Python 3",
   "language": "python",
   "name": "python3"
  },
  "language_info": {
   "codemirror_mode": {
    "name": "ipython",
    "version": 3
   },
   "file_extension": ".py",
   "mimetype": "text/x-python",
   "name": "python",
   "nbconvert_exporter": "python",
   "pygments_lexer": "ipython3",
   "version": "3.7.12"
  }
 },
 "nbformat": 4,
 "nbformat_minor": 5
}
